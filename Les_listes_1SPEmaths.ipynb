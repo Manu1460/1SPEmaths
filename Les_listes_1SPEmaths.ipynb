{
 "cells": [
  {
   "cell_type": "markdown",
   "metadata": {},
   "source": [
    "# I) Les listes\n",
    "## 1. Introduction"
   ]
  },
  {
   "cell_type": "markdown",
   "metadata": {},
   "source": [
    "Une **liste** en Python est un objet délimité par deux crochets et qui renferme un nombre fini d'éléments de n'importe quel type, ces éléments étant séparés par des virgules.\n",
    "\n",
    "Voici quelques caractéristiques sur les listes\n",
    "\n",
    ">- les éléments d'une liste sont ordonnés : si on échange de place deux éléments différents d'une liste, la liste est modifiée.\n",
    ">- les éléments d'une liste sont numérotés **depuis 0**\n",
    ">- un même objet peut appparaître plusieurs fois dans une liste.\n",
    ">- une liste peut contenir des éléments de type différents (nombres, chaines...)"
   ]
  },
  {
   "cell_type": "markdown",
   "metadata": {},
   "source": [
    "Par exemple <span style=\"color:blue\"> <b> L=['a',2001,\"c'est d'accord\",2.5] </b></span> est une liste qui contient différents types d'objets:\n",
    "* <b>L[0]='a'</b>\n",
    "* <b>L[1]=2001</b>\n"
   ]
  },
  {
   "cell_type": "code",
   "execution_count": 1,
   "metadata": {},
   "outputs": [],
   "source": [
    "#Executer la cellule\n",
    "\n",
    "L=[21,\"Bonjour\",1+2,5==6,21,1.3/4.565]\n",
    "print(L)"
   ]
  },
  {
   "cell_type": "code",
   "execution_count": 34,
   "metadata": {},
   "outputs": [],
   "source": [
    "# Executer la cellule \n",
    "L=[21,\"Bonjour\",1+2,5==6,21,1.54]\n",
    "print(L[0])\n",
    "print(L[1])\n",
    "print(L[-1])\n",
    "      "
   ]
  },
  {
   "cell_type": "markdown",
   "metadata": {},
   "source": [
    "## 2. Ajouter, insérer ou supprimer des éléments"
   ]
  },
  {
   "cell_type": "markdown",
   "metadata": {},
   "source": [
    "Les méthodes suivantes permettent de modifier une liste.\n",
    "\n",
    "\n",
    "Pour appliquer une méthode à une liste L on utilise la syntaxe: **L.nom_de_methode(arguments)**"
   ]
  },
  {
   "cell_type": "markdown",
   "metadata": {},
   "source": [
    ">- **liste.append(element)**: ajoute le terme element en fin de liste"
   ]
  },
  {
   "cell_type": "code",
   "execution_count": 23,
   "metadata": {},
   "outputs": [],
   "source": [
    "#Executer la cellule\n",
    "L=['a','b','c']\n",
    "L.append('d')\n",
    "print(L)"
   ]
  },
  {
   "cell_type": "markdown",
   "metadata": {},
   "source": [
    ">- **liste.insert(element)**: insère le terme élément à la position n° indice dans la liste"
   ]
  },
  {
   "cell_type": "code",
   "execution_count": 35,
   "metadata": {},
   "outputs": [],
   "source": [
    "#Executer la cellule\n",
    "L=['a','b','c']\n",
    "L.insert(0,'d') #insere d à la première place de la liste\n",
    "print(L)"
   ]
  },
  {
   "cell_type": "markdown",
   "metadata": {},
   "source": [
    ">- **liste.remove(element)**: supprime la première occurence de element dans la liste"
   ]
  },
  {
   "cell_type": "code",
   "execution_count": 36,
   "metadata": {},
   "outputs": [],
   "source": [
    "#Executer la cellule\n",
    "L=['a','b','c','a']\n",
    "L.remove('a') \n",
    "print(L)"
   ]
  },
  {
   "cell_type": "markdown",
   "metadata": {},
   "source": [
    "**Application**\n",
    "\n",
    "\n",
    "On considère les listes suivantes:\n",
    "* L1=[\"jour\",13,\"nuit\",67] \n",
    "* L2=[2,5,8,9]\n",
    "* L3=[4,7,8,10,13]\n",
    "\n",
    "\n",
    "\n",
    "\n",
    "1. Qu'affichent les instructions suivantes lorsqu'elles sont écrites dans la console ? \n",
    "    * L1[0]\n",
    "    * len(L3)\n",
    "2. Que faut-il écrire dans la console pour que la liste soit la suivante lorsqu'on l'affiche ['jour', 13, 'nuit', 67, 'lune'] ?\n",
    "\n",
    "3. Qu'affiche l'instruction L1+L2 ?\n",
    "\n"
   ]
  },
  {
   "cell_type": "code",
   "execution_count": 12,
   "metadata": {},
   "outputs": [],
   "source": [
    "#Compléter vos commandes ici.\n",
    "L1=[\"jour\",13,\"nuit\",67]\n",
    "L2=[2,5,8,9]\n",
    "L3=[4,7,8,10,13]\n",
    "\n"
   ]
  },
  {
   "cell_type": "markdown",
   "metadata": {},
   "source": [
    "# II) Mode de génération d'une liste\n",
    "Une liste peut être définie:\n",
    ">- en extension, en citant tous ses éléments ou en utilisant l'instruction list()\n",
    ">- par ajouts successifs\n",
    ">- en compréhension (avec ou sans condition)"
   ]
  },
  {
   "cell_type": "markdown",
   "metadata": {},
   "source": [
    "Par exemple, voici la liste des entiers pairs strictement positifs et inférieurs à 15 définie de quatre façons citées ci-dessus\n"
   ]
  },
  {
   "cell_type": "markdown",
   "metadata": {},
   "source": [
    "<strong> En extension :</strong>\n",
    "    "
   ]
  },
  {
   "cell_type": "code",
   "execution_count": 38,
   "metadata": {},
   "outputs": [],
   "source": [
    "#Executer la cellule\n",
    "liste=[2,4,6,8,10,12,14]\n",
    "print(liste)"
   ]
  },
  {
   "cell_type": "markdown",
   "metadata": {},
   "source": [
    "<strong> Par ajout successifs :</strong>"
   ]
  },
  {
   "cell_type": "code",
   "execution_count": 37,
   "metadata": {},
   "outputs": [],
   "source": [
    "#Executer la cellule\n",
    "liste=[] #création d'une liste vide\n",
    "for i in range(1,8):\n",
    "    liste.append(2*i)#ajout d'un élément en dernière position\n",
    "print(liste)"
   ]
  },
  {
   "cell_type": "markdown",
   "metadata": {},
   "source": [
    "<strong> En compréhension sans condition :</strong>"
   ]
  },
  {
   "cell_type": "code",
   "execution_count": 13,
   "metadata": {},
   "outputs": [],
   "source": [
    "#Executer la cellule\n",
    "liste=[2*i for i in range(1,8)]\n",
    "print(liste)"
   ]
  },
  {
   "cell_type": "markdown",
   "metadata": {},
   "source": [
    "<span style=\"color:blue\">**Explication :** <a href=\"https://youtu.be/Q3tJ5hXUSdM\">Site de j'ai compris maths </a> </span>"
   ]
  },
  {
   "cell_type": "markdown",
   "metadata": {},
   "source": [
    "<strong> En compréhension avec condition :</strong>"
   ]
  },
  {
   "cell_type": "code",
   "execution_count": 39,
   "metadata": {},
   "outputs": [],
   "source": [
    "#Executer la cellule\n",
    "liste=[i for i in range(1,15) if i%2==0] #i%2==0 signifie que le reste de la division euclienne par 2 est égale à 0\n",
    "print(liste)"
   ]
  },
  {
   "cell_type": "markdown",
   "metadata": {},
   "source": [
    "# III) Application aux mathématiques\n",
    "\n",
    "<strong>Lien vidéo n°1:</strong>\n",
    "<a href=\"https://youtu.be/rf_q7nPJS1s\">Site de j'ai compris maths </a>     \n",
    "    \n",
    "\n"
   ]
  },
  {
   "cell_type": "markdown",
   "metadata": {},
   "source": [
    "\n",
    "||\n",
    "|:-----------------------------------------------|-------------------------------------------------------:|\n",
    "| Créer une liste  | L=[10,4,\"toto\",-15]|\n",
    "| Indice|  L[0]:1er~élément de la liste  |\n",
    "| Modifier un élément | L[2]=14 |\n",
    "| Longueur de la liste |   len(L)|\n",
    "| Parcourir une liste |    for i in range(0, len(L) |\n",
    "|||\n"
   ]
  },
  {
   "cell_type": "markdown",
   "metadata": {},
   "source": [
    "**Exercice n°1**\n",
    "Ecrire une fonction en Python qui calcule la moyenne d'une liste de nombres\n"
   ]
  },
  {
   "cell_type": "code",
   "execution_count": null,
   "metadata": {},
   "outputs": [],
   "source": [
    "#Code à compléter\n",
    "L=[2,5,8,13]\n",
    "def moyenne():\n",
    "    for i in range(....):\n",
    "        .....\n",
    "        .....\n",
    "    return m\n"
   ]
  },
  {
   "cell_type": "code",
   "execution_count": null,
   "metadata": {},
   "outputs": [],
   "source": [
    "#fonction à executer\n",
    "moyenne()"
   ]
  },
  {
   "cell_type": "markdown",
   "metadata": {},
   "source": [
    "<strong> Correction lien vidéo n°2:</strong>\n",
    "<a href=\"https://youtu.be/M_ICM6znCUw\">Site de j'ai compris maths </a>     "
   ]
  },
  {
   "cell_type": "markdown",
   "metadata": {},
   "source": [
    "**Exercice n°2**\n",
    "\n",
    "1. Ecrire dans l'éditeur l'instruction:\n",
    "    * $\\text{L1=[i for i in range(100)]}$\n",
    "    * Quel est le contenu de la liste ?\n",
    "    * Expliquer cette instruction\n",
    "2. Ecrire dans l'éditeur l'instruction:\n",
    "    * $\\text{L2=[i**2 for i in range(100)]}$\n",
    "    * Quel est le contenu de la liste ?\n",
    "    * Expliquer cette instruction\n",
    "\n",
    "3. Ecrire dans l'éditeur l'instruction:\n",
    "    * $\\text{L3=[i**2 for i in range(21)]}$\n",
    "    * Quel est le contenu de la liste ?\n",
    "    * Expliquer cette instruction\n",
    "4. Ecrire dans l'éditeur l'instruction:\n",
    "    * $\\text{L4=[i**2 for i in range(21) if i**2%3==0]}$\n",
    "    * Quel est le contenu de la liste ?\n",
    "    * Expliquer cette instruction\n",
    "    \n",
    "    \n",
    "    \n",
    "    \n",
    "    \n",
    "    \n",
    "    \n",
    "    "
   ]
  },
  {
   "cell_type": "code",
   "execution_count": null,
   "metadata": {},
   "outputs": [],
   "source": [
    "#Taper les instructions ici pour vérifier"
   ]
  },
  {
   "cell_type": "markdown",
   "metadata": {},
   "source": [
    "**Exercice n°3**\n",
    "\n",
    "Un article coûtait 50 euros en 2015, il a augmenté de 10% chaque année pendant 4 ans.\n",
    "1. Construire une liste Python, qui contient les prix de cet article entre 2016 et 2019\n",
    "2. Calculer, dans la console Python, le quotient entre le prix de 2019 et celui de 2016"
   ]
  },
  {
   "cell_type": "code",
   "execution_count": null,
   "metadata": {},
   "outputs": [],
   "source": [
    "#Taper les instructions ici"
   ]
  },
  {
   "cell_type": "markdown",
   "metadata": {},
   "source": [
    "**Exercice n°4**\n",
    "\n",
    "Soit la suite $\\left(u_n\\right)$ définie $\\forall\\,n\\in \\mathbb{N}~\\text{par}      \\ u_{n}=n^2$\n",
    "\n",
    "\n",
    "Ecrire un programme en Python qui crée une liste avec les 30 premiers termes de la suite $\\left(u_n\\right)$"
   ]
  },
  {
   "cell_type": "code",
   "execution_count": null,
   "metadata": {},
   "outputs": [],
   "source": [
    "#Taper les instructions ici"
   ]
  },
  {
   "cell_type": "markdown",
   "metadata": {},
   "source": [
    "**Exercice n°5**\n",
    "\n",
    "Soit la suite $\\left(u_n\\right)$ définie $\\forall\\,n\\in \\mathbb{N}~\\text{par} \\ u_{n}=3n-1$\n",
    "\n",
    "On considère le programme en Python suivant:   \n",
    "    "
   ]
  },
  {
   "cell_type": "code",
   "execution_count": 12,
   "metadata": {},
   "outputs": [],
   "source": [
    "L=[]\n",
    "for i in range (0,20):\n",
    "    L.append(3*i-1)"
   ]
  },
  {
   "cell_type": "markdown",
   "metadata": {},
   "source": [
    "1. A quoi ce programme sert-il ?\n",
    "2. A quel terme L[6] correspond-t-il ? Donner la valeur de ce terme."
   ]
  },
  {
   "cell_type": "markdown",
   "metadata": {},
   "source": [
    "**Exercice n°6**\n",
    "\n",
    "Soit la suite $\\left(u_n\\right)$ définie par:$\\left\\{\\begin{array}{l} u_0=3 \\\\ \\forall\\,n\\in \\mathbb{N},\\ u_{n+1}=2u_n+2.\\end{array}\\right.$\n",
    "\n",
    "Compléter le programme Python suivant pour qu'il affiche $u_{10}$"
   ]
  },
  {
   "cell_type": "code",
   "execution_count": null,
   "metadata": {},
   "outputs": [],
   "source": [
    "L=[3]\n",
    "for i in range (1,15):\n",
    "    L.append(2L[i-1]+2)\n",
    "print (.....)"
   ]
  },
  {
   "cell_type": "markdown",
   "metadata": {},
   "source": [
    "**Exercice n°7**\n",
    "\n",
    "\n",
    "Ecrire une fonction en Python qui calcule la moyenne pondéré d'une liste de nombres.\n",
    "\n",
    "<table>\n",
    "\n",
    "  <tr>\n",
    "    <td>NOTES</td>\n",
    "    <td>3</td>\n",
    "    <td>5</td>\n",
    "    <td>17</td>\n",
    "    <td>10</td>\n",
    "  </tr>\n",
    "  <tr>\n",
    "    <td>COEFFICIENTS</td>\n",
    "    <td>2</td>\n",
    "    <td>1</td>\n",
    "    <td>4</td>\n",
    "    <td>3</td>\n",
    "  </tr>\n",
    " </table>\n"
   ]
  },
  {
   "cell_type": "code",
   "execution_count": 2,
   "metadata": {},
   "outputs": [],
   "source": [
    "# Algorithme à compléter et à executer\n",
    "L1=[3,5,17,10]\n",
    "L2=[2,1,4,3]\n",
    "def moyennepond():\n",
    "    S=0\n",
    "    Coeff=0\n",
    "    for i in range(0,4):\n",
    "        ...........\n",
    "        .................\n",
    "        m=.......\n",
    "    return m"
   ]
  },
  {
   "cell_type": "code",
   "execution_count": null,
   "metadata": {},
   "outputs": [],
   "source": [
    "#fonction à executer\n",
    "moyennepond()"
   ]
  },
  {
   "cell_type": "markdown",
   "metadata": {},
   "source": [
    "**Solution vidéo n°3:** <a href=\"https://youtu.be/ptRwvnFwUmU\">Site de j'ai compris maths </a>  "
   ]
  },
  {
   "cell_type": "markdown",
   "metadata": {},
   "source": [
    "**Exercice n°8**\n",
    "\n",
    "\n",
    "Un nombre est dit parfait s'il est égal à la somme de ses diviseurs propres, c'est à dire différents de lui même.\n",
    "1. 6 est-il un nombre parfait ? 8 est-il un nombre parfait ?\n",
    "2. Compléter la fonction ci-dessous et tester nb_parfait(6)\n",
    "3. Compléter la fonction pour qu'elle retourne la somme des diviseurs de n."
   ]
  },
  {
   "cell_type": "code",
   "execution_count": null,
   "metadata": {},
   "outputs": [],
   "source": [
    "def nb_parfait(n):\n",
    "    div=[]\n",
    "    for i in range(1,n):\n",
    "        if n%i==0:\n",
    "            div.append(i)\n",
    "    print(div)\n",
    "    "
   ]
  },
  {
   "cell_type": "code",
   "execution_count": null,
   "metadata": {},
   "outputs": [],
   "source": [
    "#instruction à taper"
   ]
  },
  {
   "cell_type": "code",
   "execution_count": null,
   "metadata": {},
   "outputs": [],
   "source": [
    "#Nouveau programme à modifier\n",
    "\n",
    "def nb_parfait(n):\n",
    "    div=[]\n",
    "    for i in range(1,n):\n",
    "        if n%i==0:\n",
    "            div.append(i)\n",
    "    print(div)\n",
    "    \n",
    "    "
   ]
  },
  {
   "cell_type": "code",
   "execution_count": null,
   "metadata": {},
   "outputs": [],
   "source": [
    "#instruction à taper"
   ]
  },
  {
   "cell_type": "markdown",
   "metadata": {},
   "source": [
    "**Exercice n°9**\n",
    "\n",
    "On lance un dé équilibré 50 fois.\n",
    "\n",
    "1. Tester et expliquer le programme suivant:\n",
    "\n"
   ]
  },
  {
   "cell_type": "code",
   "execution_count": 2,
   "metadata": {},
   "outputs": [],
   "source": [
    "# A tester\n",
    "from random import randint\n",
    "lancers=[randint(1,6) for k in range(50)]\n",
    "effectifs=[lancers.count(k) for k in range(1,7)]\n",
    "print(lancers)\n",
    "print(effectifs)"
   ]
  },
  {
   "cell_type": "markdown",
   "metadata": {},
   "source": [
    "2. Construire la liste lancers2 qui contient 40 nouveaux lancers de dé\n",
    "3. Concaténer (faire la somme) les listes lancers et lancers2 puis modifier la liste des effectifs pour qu'elle contienne le nombre d'occurences de chaque face pour l'ensemble des deux listes"
   ]
  },
  {
   "cell_type": "code",
   "execution_count": null,
   "metadata": {},
   "outputs": [],
   "source": [
    "#Nouveau programme\n",
    "\n"
   ]
  }
 ],
 "metadata": {
  "kernelspec": {
   "display_name": "Python 3",
   "language": "python",
   "name": "python3"
  },
  "language_info": {
   "codemirror_mode": {
    "name": "ipython",
    "version": 3
   },
   "file_extension": ".py",
   "mimetype": "text/x-python",
   "name": "python",
   "nbconvert_exporter": "python",
   "pygments_lexer": "ipython3",
   "version": "3.7.6"
  }
 },
 "nbformat": 4,
 "nbformat_minor": 4
}
